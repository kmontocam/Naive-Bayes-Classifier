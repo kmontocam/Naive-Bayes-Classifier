{
 "cells": [
  {
   "cell_type": "code",
   "execution_count": 1,
   "metadata": {},
   "outputs": [],
   "source": [
    "import pandas as pd\n",
    "import numpy as np\n",
    "import nltk\n",
    "from nltk.stem import SnowballStemmer\n",
    "from nltk.tokenize import RegexpTokenizer\n",
    "from nltk.corpus import stopwords\n",
    "from sklearn.model_selection import train_test_split\n",
    "from sklearn.feature_extraction.text import CountVectorizer\n",
    "from sklearn.metrics import precision_score, recall_score, f1_score, accuracy_score, \\\n",
    "    confusion_matrix, ConfusionMatrixDisplay\n"
   ]
  },
  {
   "cell_type": "code",
   "execution_count": 2,
   "metadata": {},
   "outputs": [
    {
     "name": "stderr",
     "output_type": "stream",
     "text": [
      "[nltk_data] Downloading package punkt to /Users/kmontocam/nltk_data...\n",
      "[nltk_data]   Package punkt is already up-to-date!\n",
      "[nltk_data] Downloading package stopwords to\n",
      "[nltk_data]     /Users/kmontocam/nltk_data...\n",
      "[nltk_data]   Package stopwords is already up-to-date!\n",
      "[nltk_data] Downloading package averaged_perceptron_tagger to\n",
      "[nltk_data]     /Users/kmontocam/nltk_data...\n",
      "[nltk_data]   Package averaged_perceptron_tagger is already up-to-\n",
      "[nltk_data]       date!\n",
      "[nltk_data] Downloading package wordnet to\n",
      "[nltk_data]     /Users/kmontocam/nltk_data...\n",
      "[nltk_data]   Package wordnet is already up-to-date!\n"
     ]
    },
    {
     "data": {
      "text/plain": [
       "True"
      ]
     },
     "execution_count": 2,
     "metadata": {},
     "output_type": "execute_result"
    }
   ],
   "source": [
    "nltk.download('punkt')\n",
    "nltk.download('stopwords')\n",
    "nltk.download('averaged_perceptron_tagger')\n",
    "nltk.download('wordnet')\n"
   ]
  },
  {
   "cell_type": "code",
   "execution_count": 3,
   "metadata": {},
   "outputs": [],
   "source": [
    "df_ = pd.read_csv(r'data/sms_spam.csv')\n"
   ]
  },
  {
   "cell_type": "code",
   "execution_count": 4,
   "metadata": {},
   "outputs": [
    {
     "data": {
      "text/html": [
       "<div>\n",
       "<style scoped>\n",
       "    .dataframe tbody tr th:only-of-type {\n",
       "        vertical-align: middle;\n",
       "    }\n",
       "\n",
       "    .dataframe tbody tr th {\n",
       "        vertical-align: top;\n",
       "    }\n",
       "\n",
       "    .dataframe thead th {\n",
       "        text-align: right;\n",
       "    }\n",
       "</style>\n",
       "<table border=\"1\" class=\"dataframe\">\n",
       "  <thead>\n",
       "    <tr style=\"text-align: right;\">\n",
       "      <th></th>\n",
       "      <th>type</th>\n",
       "      <th>text</th>\n",
       "    </tr>\n",
       "  </thead>\n",
       "  <tbody>\n",
       "    <tr>\n",
       "      <th>0</th>\n",
       "      <td>ham</td>\n",
       "      <td>Hope you are having a good week. Just checking in</td>\n",
       "    </tr>\n",
       "    <tr>\n",
       "      <th>1</th>\n",
       "      <td>ham</td>\n",
       "      <td>K..give back my thanks.</td>\n",
       "    </tr>\n",
       "    <tr>\n",
       "      <th>2</th>\n",
       "      <td>ham</td>\n",
       "      <td>Am also doing in cbe only. But have to pay.</td>\n",
       "    </tr>\n",
       "    <tr>\n",
       "      <th>3</th>\n",
       "      <td>spam</td>\n",
       "      <td>complimentary 4 STAR Ibiza Holiday or £10,000 ...</td>\n",
       "    </tr>\n",
       "    <tr>\n",
       "      <th>4</th>\n",
       "      <td>spam</td>\n",
       "      <td>okmail: Dear Dave this is your final notice to...</td>\n",
       "    </tr>\n",
       "    <tr>\n",
       "      <th>5</th>\n",
       "      <td>ham</td>\n",
       "      <td>Aiya we discuss later lar... Pick u up at 4 is...</td>\n",
       "    </tr>\n",
       "    <tr>\n",
       "      <th>6</th>\n",
       "      <td>ham</td>\n",
       "      <td>Are you this much buzy</td>\n",
       "    </tr>\n",
       "    <tr>\n",
       "      <th>7</th>\n",
       "      <td>ham</td>\n",
       "      <td>Please ask mummy to call father</td>\n",
       "    </tr>\n",
       "    <tr>\n",
       "      <th>8</th>\n",
       "      <td>spam</td>\n",
       "      <td>Marvel Mobile Play the official Ultimate Spide...</td>\n",
       "    </tr>\n",
       "    <tr>\n",
       "      <th>9</th>\n",
       "      <td>ham</td>\n",
       "      <td>fyi I'm at usf now, swing by the room whenever</td>\n",
       "    </tr>\n",
       "  </tbody>\n",
       "</table>\n",
       "</div>"
      ],
      "text/plain": [
       "   type                                               text\n",
       "0   ham  Hope you are having a good week. Just checking in\n",
       "1   ham                            K..give back my thanks.\n",
       "2   ham        Am also doing in cbe only. But have to pay.\n",
       "3  spam  complimentary 4 STAR Ibiza Holiday or £10,000 ...\n",
       "4  spam  okmail: Dear Dave this is your final notice to...\n",
       "5   ham  Aiya we discuss later lar... Pick u up at 4 is...\n",
       "6   ham                             Are you this much buzy\n",
       "7   ham                    Please ask mummy to call father\n",
       "8  spam  Marvel Mobile Play the official Ultimate Spide...\n",
       "9   ham     fyi I'm at usf now, swing by the room whenever"
      ]
     },
     "execution_count": 4,
     "metadata": {},
     "output_type": "execute_result"
    }
   ],
   "source": [
    "df_.head(n=10)\n"
   ]
  },
  {
   "cell_type": "markdown",
   "metadata": {},
   "source": [
    "### Data Wrangling\n",
    "- One hot encode\n",
    "- Stemming"
   ]
  },
  {
   "cell_type": "code",
   "execution_count": 5,
   "metadata": {},
   "outputs": [],
   "source": [
    "def process_text(text: str, tokenizer=RegexpTokenizer(r'[a-zA-Z]{3,}'), snow=SnowballStemmer('english'),\n",
    "                 sw=stopwords.words('english')) -> str:\n",
    "    tokens = tokenizer.tokenize(text)\n",
    "    return ' '.join([snow.stem(word) for word in tokens\n",
    "                     if word not in sw])\n"
   ]
  },
  {
   "cell_type": "code",
   "execution_count": 6,
   "metadata": {},
   "outputs": [],
   "source": [
    "df = (\n",
    "    df_\n",
    "    .pipe(pd.get_dummies, columns=['type'], drop_first=True)\n",
    "    .rename({'type_spam': 'spam'}, axis=1)\n",
    "    .assign(text=df_.text.apply(process_text))\n",
    ")\n"
   ]
  },
  {
   "cell_type": "code",
   "execution_count": 7,
   "metadata": {},
   "outputs": [
    {
     "data": {
      "text/html": [
       "<div>\n",
       "<style scoped>\n",
       "    .dataframe tbody tr th:only-of-type {\n",
       "        vertical-align: middle;\n",
       "    }\n",
       "\n",
       "    .dataframe tbody tr th {\n",
       "        vertical-align: top;\n",
       "    }\n",
       "\n",
       "    .dataframe thead th {\n",
       "        text-align: right;\n",
       "    }\n",
       "</style>\n",
       "<table border=\"1\" class=\"dataframe\">\n",
       "  <thead>\n",
       "    <tr style=\"text-align: right;\">\n",
       "      <th></th>\n",
       "      <th>text</th>\n",
       "      <th>spam</th>\n",
       "    </tr>\n",
       "  </thead>\n",
       "  <tbody>\n",
       "    <tr>\n",
       "      <th>0</th>\n",
       "      <td>hope good week just check</td>\n",
       "      <td>0</td>\n",
       "    </tr>\n",
       "    <tr>\n",
       "      <th>1</th>\n",
       "      <td>give back thank</td>\n",
       "      <td>0</td>\n",
       "    </tr>\n",
       "    <tr>\n",
       "      <th>2</th>\n",
       "      <td>also cbe but pay</td>\n",
       "      <td>0</td>\n",
       "    </tr>\n",
       "    <tr>\n",
       "      <th>3</th>\n",
       "      <td>complimentari star ibiza holiday cash need urg...</td>\n",
       "      <td>1</td>\n",
       "    </tr>\n",
       "    <tr>\n",
       "      <th>4</th>\n",
       "      <td>okmail dear dave final notic collect tenerif h...</td>\n",
       "      <td>1</td>\n",
       "    </tr>\n",
       "    <tr>\n",
       "      <th>5</th>\n",
       "      <td>aiya discuss later lar pick</td>\n",
       "      <td>0</td>\n",
       "    </tr>\n",
       "    <tr>\n",
       "      <th>6</th>\n",
       "      <td>are much buzi</td>\n",
       "      <td>0</td>\n",
       "    </tr>\n",
       "    <tr>\n",
       "      <th>7</th>\n",
       "      <td>pleas ask mummi call father</td>\n",
       "      <td>0</td>\n",
       "    </tr>\n",
       "    <tr>\n",
       "      <th>8</th>\n",
       "      <td>marvel mobil play offici ultim spider man game...</td>\n",
       "      <td>1</td>\n",
       "    </tr>\n",
       "    <tr>\n",
       "      <th>9</th>\n",
       "      <td>fyi usf swing room whenev</td>\n",
       "      <td>0</td>\n",
       "    </tr>\n",
       "  </tbody>\n",
       "</table>\n",
       "</div>"
      ],
      "text/plain": [
       "                                                text  spam\n",
       "0                          hope good week just check     0\n",
       "1                                    give back thank     0\n",
       "2                                   also cbe but pay     0\n",
       "3  complimentari star ibiza holiday cash need urg...     1\n",
       "4  okmail dear dave final notic collect tenerif h...     1\n",
       "5                        aiya discuss later lar pick     0\n",
       "6                                      are much buzi     0\n",
       "7                        pleas ask mummi call father     0\n",
       "8  marvel mobil play offici ultim spider man game...     1\n",
       "9                          fyi usf swing room whenev     0"
      ]
     },
     "execution_count": 7,
     "metadata": {},
     "output_type": "execute_result"
    }
   ],
   "source": [
    "df.head(n=10)\n"
   ]
  },
  {
   "cell_type": "markdown",
   "metadata": {},
   "source": [
    "### Spam Classifier using the Naive Bayes model "
   ]
  },
  {
   "cell_type": "code",
   "execution_count": 8,
   "metadata": {},
   "outputs": [],
   "source": [
    "class SpamClassifierNB():\n",
    "\n",
    "    def w_prob_spam(self) -> dict:\n",
    "        \"\"\"Probability of word having an occurence in text message given that\n",
    "        it is spam\"\"\"\n",
    "        X_spam = self.X[self.y]\n",
    "        X_spam = X_spam.loc[:, X_spam.sum() > 0]\n",
    "        _, n_words = X_spam.shape\n",
    "        return {word: X_spam[word].astype(bool).sum()/n_words for word in X_spam}\n",
    "\n",
    "    def w_prob_ham(self) -> dict:\n",
    "        \"\"\"Probability of word having an occurence in text message given that\n",
    "        it is ham (not spam)\"\"\"\n",
    "        X_ham = self.X[~self.y]\n",
    "        X_ham = X_ham.loc[:, X_ham.sum() > 0]\n",
    "        _, n_words = X_ham.shape\n",
    "        return {word: X_ham[word].astype(bool).sum()/n_words for word in X_ham}\n",
    "\n",
    "    def fit_transform(self, X_train: pd.core.frame.DataFrame, y_train: pd.core.series.Series) -> None:\n",
    "        \"\"\"Fit model given a training DataFrame\"\"\"\n",
    "        word_counter = CountVectorizer(max_features=1_500) # Only consider the 1.5k most repeated words\n",
    "        word_counts = word_counter.fit(X_train)\n",
    "        # Tranform functions to manipulate text\n",
    "\n",
    "        # Compute changes to DataFrame\n",
    "        self.X = pd.DataFrame(word_counts.transform(X_train).toarray(),\n",
    "                              columns=word_counts.get_feature_names_out(),\n",
    "                              index=X_train.index)\n",
    "        self.y = y_train.astype(bool)\n",
    "\n",
    "        self.spam_probs = self.w_prob_spam()\n",
    "        self.ham_probs = self.w_prob_ham()\n",
    "\n",
    "    def process_text(self, text: str, tokenizer=RegexpTokenizer(r'[a-zA-Z]{3,}'), snow=SnowballStemmer('english'),\n",
    "                     sw=stopwords.words('english')) -> list:\n",
    "        tokens = tokenizer.tokenize(text)\n",
    "        return [snow.stem(word) for word in tokens if word not in sw]\n",
    "\n",
    "    def predict(self, text: str) -> bool:\n",
    "        spam_prob = int()\n",
    "        ham_prob = int()\n",
    "\n",
    "        for word in self.process_text(text):\n",
    "            spam_prob += self.spam_probs.get(word, 0)\n",
    "            ham_prob += self.ham_probs.get(word, 0)\n",
    "\n",
    "        return spam_prob > ham_prob # True if model identifies text as Spam\n"
   ]
  },
  {
   "cell_type": "markdown",
   "metadata": {},
   "source": [
    "### Training"
   ]
  },
  {
   "cell_type": "code",
   "execution_count": 9,
   "metadata": {},
   "outputs": [],
   "source": [
    "X_train, X_test, y_train, y_test = train_test_split(df.text, df.spam,\n",
    "                                                    train_size=0.7,\n",
    "                                                    random_state=0)\n"
   ]
  },
  {
   "cell_type": "code",
   "execution_count": 10,
   "metadata": {},
   "outputs": [],
   "source": [
    "classifier = SpamClassifierNB()\n",
    "classifier.fit_transform(X_train, y_train)\n"
   ]
  },
  {
   "cell_type": "markdown",
   "metadata": {},
   "source": [
    "### Accuracy metrics"
   ]
  },
  {
   "cell_type": "code",
   "execution_count": 11,
   "metadata": {},
   "outputs": [],
   "source": [
    "y_pred = [classifier.predict(text) for text in X_test]\n",
    "y_pred = pd.Series(y_pred, index=y_test.index).astype(int)\n"
   ]
  },
  {
   "cell_type": "code",
   "execution_count": 12,
   "metadata": {},
   "outputs": [],
   "source": [
    "accuracy = accuracy_score(y_true=y_test.values, y_pred=y_pred)\n",
    "precision = precision_score(y_true=y_test.values, y_pred=y_pred)\n",
    "recall = recall_score(y_true=y_test.values, y_pred=y_pred)\n",
    "f1 = f1_score(y_true=y_test.values, y_pred=y_pred)\n"
   ]
  },
  {
   "cell_type": "code",
   "execution_count": 13,
   "metadata": {},
   "outputs": [
    {
     "name": "stdout",
     "output_type": "stream",
     "text": [
      "accuracy=0.920\n",
      "precision=0.614\n",
      "recall=0.926\n",
      "f1=0.738\n"
     ]
    }
   ],
   "source": [
    "print(f'{accuracy=:0.3f}')\n",
    "print(f'{precision=:0.3f}')\n",
    "print(f'{recall=:0.3f}')\n",
    "print(f'{f1=:0.3f}')\n"
   ]
  },
  {
   "cell_type": "code",
   "execution_count": 14,
   "metadata": {},
   "outputs": [],
   "source": [
    "y_true = y_test.map({0: 'Ham', 1: 'Spam'})\n",
    "y_pred = y_pred.map({0: 'Ham', 1: 'Spam'})\n"
   ]
  },
  {
   "cell_type": "code",
   "execution_count": 15,
   "metadata": {},
   "outputs": [
    {
     "data": {
      "image/png": "[encoded data removed]",
      "text/plain": [
       "<Figure size 432x288 with 2 Axes>"
      ]
     },
     "metadata": {
      "needs_background": "light"
     },
     "output_type": "display_data"
    }
   ],
   "source": [
    "_ = ConfusionMatrixDisplay(confusion_matrix(y_true, y_pred, labels=['Ham', 'Spam']),\n",
    "                           display_labels=['Ham', 'Spam']).plot()\n"
   ]
  },
  {
   "cell_type": "markdown",
   "metadata": {},
   "source": [
    "### Testing"
   ]
  },
  {
   "cell_type": "code",
   "execution_count": 16,
   "metadata": {},
   "outputs": [
    {
     "data": {
      "text/plain": [
       "True"
      ]
     },
     "execution_count": 16,
     "metadata": {},
     "output_type": "execute_result"
    }
   ],
   "source": [
    "# Expected to be on a spam message\n",
    "classifier.predict('You won a free ticket to the Bahamas!')\n"
   ]
  },
  {
   "cell_type": "code",
   "execution_count": 17,
   "metadata": {},
   "outputs": [
    {
     "data": {
      "text/plain": [
       "False"
      ]
     },
     "execution_count": 17,
     "metadata": {},
     "output_type": "execute_result"
    }
   ],
   "source": [
    "# Ham message\n",
    "classifier.predict('I will meet you at the airport')\n"
   ]
  }
 ],
 "metadata": {
  "kernelspec": {
   "display_name": "Python 3.9.12 ('base')",
   "language": "python",
   "name": "python3"
  },
  "language_info": {
   "codemirror_mode": {
    "name": "ipython",
    "version": 3
   },
   "file_extension": ".py",
   "mimetype": "text/x-python",
   "name": "python",
   "nbconvert_exporter": "python",
   "pygments_lexer": "ipython3",
   "version": "3.9.12"
  },
  "orig_nbformat": 4,
  "vscode": {
   "interpreter": {
    "hash": "664d3ff23a96e90f385c1b0a444556e65eef679ecf6e77192d7d9f6bb9ab3935"
   }
  }
 },
 "nbformat": 4,
 "nbformat_minor": 2
}
